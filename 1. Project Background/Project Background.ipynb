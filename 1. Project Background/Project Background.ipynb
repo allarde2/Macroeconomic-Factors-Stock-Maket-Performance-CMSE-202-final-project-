{
 "cells": [
  {
   "cell_type": "markdown",
   "id": "793b7b6c-e1c5-4922-ac32-49c30213d7d8",
   "metadata": {},
   "source": [
    "<div style = \"text-align: center; color: black; font-family: Times New Roman;\">\n",
    "  <strong><h1>PROJECT BACKGROUND<strong></h1>\n",
    "</div>"
   ]
  },
  {
   "cell_type": "markdown",
   "id": "7e64a56a-d137-4a90-b3e8-11fdb2a8b21a",
   "metadata": {},
   "source": [
    "<div style = \"text-align: center; color: black; font-family: Times New Roman;\">\n",
    "<h2>How strongly do macroeconomic factors explain or predict changes in major stock indices over time? <h2>\n",
    "</div>"
   ]
  },
  {
   "cell_type": "markdown",
   "id": "64829bdb-1b0a-487f-83b4-914d4462e305",
   "metadata": {},
   "source": [
    "<div style=\"font-family: 'Times New Roman'; font-size: 18px; color: black; line-height: 1.6;\">\n",
    "\n",
    "  <p><strong>Overview:</strong></p>\n",
    "  <p>\n",
    "    This project explores the extent to which macroeconomic variables predict movements in major U.S. stock indices — specifically the S&amp;P 500, Dow Jones, and NASDAQ. By leveraging historical data, we aim to quantify the influence of variables such as unemployment rate, GDP growth, money supply, inflation, interest rates, and federal policy actions on market behavior.\n",
    "  </p>\n",
    "\n",
    "  <p><strong>We will be running 3 model analyses:</strong></p>\n",
    "  <ol>\n",
    "    <li><strong>Multiple Linear Regression</strong> – To establish baseline relationships and interpret coefficients.</li>\n",
    "    <li><strong>LASSO Regression</strong> – To handle multicollinearity and perform variable selection through regularization.</li>\n",
    "    <li><strong>Time-Series with LASSO Regression</strong> – To see if the previous period has predictive power for the current period.</li>\n",
    "  </ol>\n",
    "\n",
    "  <p><strong>Using these main Python libraries:</strong></p>\n",
    "  <ul>\n",
    "    <li><strong>pandas</strong> – Data loading, transformation, and manipulation</li>\n",
    "    <li><strong>numpy</strong> – Numerical operations and array handling</li>\n",
    "    <li><strong>matplotlib</strong> – Visualization of trends and residuals</li>\n",
    "    <li><strong>seaborn</strong> – Statistical plotting and correlation analysis</li>\n",
    "    <li><strong>sklearn</strong> – Model training, evaluation, and regularization</li>\n",
    "    <li><strong>statsmodels</strong> – Ordinary Least Squares regression and summary statistics</li>\n",
    "  </ul>\n",
    "\n",
    "</div>"
   ]
  },
  {
   "cell_type": "markdown",
   "id": "386c2d90-2450-4531-b0ee-6d7d0b06e2ae",
   "metadata": {},
   "source": [
    "<div style=\"font-family: 'Times New Roman'; font-size: 18px; text-align: center; color: black;\">\n",
    "\n",
    "  <strong>→ Macroeconomic Factors:</strong><br>\n",
    "\n",
    "  <strong>→ CPI:</strong> Monthly change in prices paid by consumers in the U.S. It collects prices for a fixed basket of goods and services (e.g., food, housing, clothing, transportation, medical care, education) using a base year of 2015.<br>\n",
    "\n",
    "  <strong>→ Real Interest Rate:</strong> The interest rate adjusted for inflation, reflecting the true cost of borrowing.<br>\n",
    "\n",
    "  <strong>→ Unemployment Rate:</strong> The percentage of the labor force that is actively seeking employment but unable to find a job.<br>\n",
    "\n",
    "  <strong>→ GDP Growth:</strong> Measures the change in gross domestic product (economic output) between the current and previous quarter. A positive value indicates economic expansion; a negative value indicates contraction or recession.<br>\n",
    "\n",
    "  <strong>→ M2 Money Supply:</strong> Represents the total amount of liquid assets in the economy (cash, checking deposits, savings, etc.) and can be influenced by the Federal Reserve.<br>\n",
    "\n",
    "  <strong>→ Federal Funds Rate:</strong> The interest rate at which banks lend reserve balances to other banks overnight, set by the Federal Reserve. It typically increases when prices are increasing to slow down spending and investment by making borrowing more expensive.<br>\n",
    "\n",
    "  <strong>→ Stock Market Indices:</strong><br>\n",
    "\n",
    "  <strong>→ S&P 500:</strong> Tracks the performance of 500 of the largest publicly traded U.S. companies by revenue. It is a weighted index, so larger companies (by market capitalization) have more influence.<br>\n",
    "\n",
    "  <strong>→ Dow Jones:</strong> An index of 30 large, established U.S. companies listed on the New York Stock Exchange. These firms are typically high-earning and stable.<br>\n",
    "\n",
    "  <strong>→ NASDAQ:</strong> A stock market index composed of stocks listed on the NASDAQ exchange, often concentrated in technology and growth-oriented companies.\n",
    "\n",
    "</div>"
   ]
  },
  {
   "cell_type": "markdown",
   "id": "d30ffab8-7621-4b28-ae1d-1f7ce77ebb9b",
   "metadata": {},
   "source": [
    "<div style=\"font-family: 'Times New Roman'; font-size: 18px; text-align: center; color: black;\">\n",
    "\n",
    "  <p><strong>Intuitively, this is our hypothesis of the relationship between the macroeconomic variables and the stock market indices:</strong></p>\n",
    "\n",
    "  <p><strong>CPI (Negative Correlation):</strong> Higher CPI implies higher levels of inflation, which will in turn lower the stock market indices, as the cost of goods and services increases.</p>\n",
    "\n",
    "  <p><strong>Real Interest Rate (Negative Correlation):</strong> Higher interest rates makes the cost borrowing more expensive, slowing down consumer spending and investment, as individuals shift to less risky assets.</p>\n",
    "\n",
    "  <p><strong>Unemployment Rate (Negative Correlation):</strong> Higher unemployment indicates weaker economic health, leading to lower consumer spending and decreased company profits, which reduces stock market indices.</p>\n",
    "\n",
    "  <p><strong>GDP Growth (Positive Correlation):</strong> Higher GDP reflects a stronger economy, which should boost stock market indices as company performance improves.</p>\n",
    "\n",
    "  <p><strong>M2 Money Supply (Positive Correlation):</strong> More money in the economy increases liquidity, which promotes investment and stimulates consumer activity.</p>\n",
    "\n",
    "  <p><strong>Federal Funds Rate (Negative Correlation):</strong> Higher rates makes the cost of borrowing more expensive, reducing both corporate investment and consumer spending, which can negatively impact the stock market.</p>\n",
    "\n",
    "</div>"
   ]
  }
 ],
 "metadata": {
  "kernelspec": {
   "display_name": "Python 3.11 (default)",
   "language": "python",
   "name": "python3"
  },
  "language_info": {
   "codemirror_mode": {
    "name": "ipython",
    "version": 3
   },
   "file_extension": ".py",
   "mimetype": "text/x-python",
   "name": "python",
   "nbconvert_exporter": "python",
   "pygments_lexer": "ipython3",
   "version": "3.11.11"
  }
 },
 "nbformat": 4,
 "nbformat_minor": 5
}
